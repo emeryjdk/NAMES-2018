{
 "cells": [
  {
   "cell_type": "markdown",
   "metadata": {
    "slideshow": {
     "slide_type": "slide"
    }
   },
   "source": [
    "# `ipyvolume` Creation of Instructional Crystal Structures\n",
    "\n",
    "Can  `ipyvolume`  notebooks and modules do better?\n",
    "\n",
    "- Take us to the Web\n",
    "- Simplify syntax\n",
    "- Large, active community\n",
    "- Simplier presentation mode\n",
    "- Local, customized API\n",
    "- Work together!\n",
    "- Python scripting (student &hearts;)\n"
   ]
  },
  {
   "cell_type": "code",
   "execution_count": 68,
   "metadata": {
    "slideshow": {
     "slide_type": "skip"
    }
   },
   "outputs": [
    {
     "ename": "SyntaxError",
     "evalue": "invalid syntax (<ipython-input-68-8e774d8364fe>, line 7)",
     "output_type": "error",
     "traceback": [
      "\u001b[1;36m  File \u001b[1;32m\"<ipython-input-68-8e774d8364fe>\"\u001b[1;36m, line \u001b[1;32m7\u001b[0m\n\u001b[1;33m    .reveal .slides section[data-vertical-align-top]{\u001b[0m\n\u001b[1;37m    ^\u001b[0m\n\u001b[1;31mSyntaxError\u001b[0m\u001b[1;31m:\u001b[0m invalid syntax\n"
     ]
    }
   ],
   "source": [
    "import ipywidgets as widgets\n",
    "import ipyvolume as ipv\n",
    "import ipyvolume.pylab as p3\n",
    "import numpy as np\n",
    "from scipy import special\n",
    "import seaborn as sns #For stylez."
   ]
  },
  {
   "cell_type": "code",
   "execution_count": 61,
   "metadata": {
    "slideshow": {
     "slide_type": "subslide"
    }
   },
   "outputs": [],
   "source": [
    "#Positions for BCC crystal\n",
    "x = np.array([0.,1.,0.,0.,1.,1.,0.,1.,0.5])\n",
    "y = np.array([0.,0.,1.,0.,1.,0.,1.,1.,0.5])\n",
    "z = np.array([0.,0.,0.,1.,0.,1.,1.,1.,0.5])\n",
    "\n",
    "#Unit Cell\n",
    "x1 = np.array([0.,0.,0.,0.,0.,1.,1.,0.,0.,1.,1.,0.,0.,1.,1.,1.,1.])\n",
    "y1 = np.array([0.,1.,1.,0.,0.,0.,0.,0.,0.,0.,1.,1.,1.,1.,1.,1.,0.])\n",
    "z1 = np.array([0.,0.,1.,1.,0.,0.,1.,1.,0.,0.,0.,0.,1.,1.,0.,1.,1.])\n",
    "\n",
    "#Figure\n",
    "fig = ipv.figure()\n",
    "p3.style.use('seaborn-whitegrid')\n",
    "BCCCrystal=p3.scatter(x, y, z, marker='sphere', color='blue', size=10)\n",
    "p3.plot(x1,y1,z1, color='black')\n",
    "p3.xyzlim(-0.5, 1.5)\n",
    "\n",
    "#Camera angles --- apparently these angle commands are obsolete.... but I can't control the view the way I'd like with ipyvolue.view.\n",
    "fig.anglex = -54*np.pi/180 #Seems arbitrary. Covaries with anglez...\n",
    "fig.angley = 60*np.pi/180\n",
    "fig.anglez = 146*np.pi/180\n",
    "\n",
    "#Widgets\n",
    "color_picker = widgets.ColorPicker(description='Color')\n",
    "size_slider = widgets.FloatSlider(min=1, max=25, description='Size')\n",
    "#marker_toggle = widgets.ToggleButtons(options=['arrow', 'sphere', 'cat'])\n",
    "\n",
    "widgets.jslink((BCCCrystal, 'color'), (color_picker, 'value'))\n",
    "widgets.jslink((BCCCrystal, 'size'), (size_slider, 'value'))\n",
    "#widgets.link((BCCCrystal, 'geo'), (w, 'value'))"
   ]
  },
  {
   "cell_type": "code",
   "execution_count": 62,
   "metadata": {
    "slideshow": {
     "slide_type": "slide"
    }
   },
   "outputs": [
    {
     "data": {
      "application/vnd.jupyter.widget-view+json": {
       "model_id": "eddfffed0d4141848ffe080ed3dd169c",
       "version_major": 2,
       "version_minor": 0
      },
      "text/plain": [
       "HBox(children=(VBox(children=(Figure(anglex=-0.9424777960769379, angley=1.0471975511965976, anglez=2.548180707…"
      ]
     },
     "metadata": {},
     "output_type": "display_data"
    }
   ],
   "source": [
    "superwidge=widgets.HBox([ipv.gcc(), BCCCrystal, size_slider, color_picker])\n",
    "superwidge"
   ]
  },
  {
   "cell_type": "code",
   "execution_count": 44,
   "metadata": {
    "slideshow": {
     "slide_type": "slide"
    }
   },
   "outputs": [],
   "source": [
    "ipv.embed.embed_html('pleasework.html',\n",
    "    [superwidge],template_options={\"embed_url\":'embed.js'})"
   ]
  },
  {
   "cell_type": "code",
   "execution_count": 67,
   "metadata": {
    "slideshow": {
     "slide_type": "slide"
    }
   },
   "outputs": [
    {
     "data": {
      "application/vnd.jupyter.widget-view+json": {
       "model_id": "bbd7f25dca01419d97661f6b7bd2ae88",
       "version_major": 2,
       "version_minor": 0
      },
      "text/plain": [
       "HBox(children=(VBox(children=(Figure(anglex=-0.9424777960769379, angley=1.0471975511965976, anglez=2.548180707…"
      ]
     },
     "metadata": {},
     "output_type": "display_data"
    }
   ],
   "source": [
    "fig1 = ipv.figure()\n",
    "p3.style.use('seaborn-whitegrid')\n",
    "BCCCrystal=p3.scatter(x, y, z, marker='cat', color='blue', size=10)\n",
    "p3.plot(x1,y1,z1, color='black')\n",
    "p3.xyzlim(-0.5, 1.5)\n",
    "\n",
    "#Camera angles --- apparently these angle commands are obsolete.... but I can't control the view the way I'd like with ipyvolue.view.\n",
    "fig1.anglex = -54*np.pi/180 #Seems arbitrary. Covaries with anglez...\n",
    "fig1.angley = 60*np.pi/180\n",
    "fig1.anglez = 146*np.pi/180"
   ]
  },
  {
   "cell_type": "code",
   "execution_count": null,
   "metadata": {},
   "outputs": [],
   "source": [
    "superwidge1=widgets.HBox([ipv.gcc(), BCCCrystal, size_slider, color_picker])\n",
    "superwidge1"
   ]
  }
 ],
 "metadata": {
  "celltoolbar": "Slideshow",
  "hide_input": false,
  "kernelspec": {
   "display_name": "Python 3",
   "language": "python",
   "name": "python3"
  },
  "language_info": {
   "codemirror_mode": {
    "name": "ipython",
    "version": 3
   },
   "file_extension": ".py",
   "mimetype": "text/x-python",
   "name": "python",
   "nbconvert_exporter": "python",
   "pygments_lexer": "ipython3",
   "version": "3.6.5"
  },
  "latex_envs": {
   "LaTeX_envs_menu_present": true,
   "autoclose": false,
   "autocomplete": true,
   "bibliofile": "biblio.bib",
   "cite_by": "apalike",
   "current_citInitial": 1,
   "eqLabelWithNumbers": true,
   "eqNumInitial": 1,
   "hotkeys": {
    "equation": "Ctrl-E",
    "itemize": "Ctrl-I"
   },
   "labels_anchors": false,
   "latex_user_defs": false,
   "report_style_numbering": false,
   "user_envs_cfg": false
  }
 },
 "nbformat": 4,
 "nbformat_minor": 2
}
